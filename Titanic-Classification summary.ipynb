{
 "cells": [
  {
   "cell_type": "markdown",
   "id": "3188d72d",
   "metadata": {},
   "source": [
    "# \"Survival Prediction on the Titanic: A Comparative Study of Decision Tree, Logistic Regression, and KNN Classification\""
   ]
  },
  {
   "cell_type": "markdown",
   "id": "21982b84",
   "metadata": {},
   "source": [
    "### Objective: Comparison of Classification Algorithms on the Titanic Dataset"
   ]
  },
  {
   "cell_type": "markdown",
   "id": "9eddc3a8",
   "metadata": {},
   "source": [
    "#### Process flow "
   ]
  },
  {
   "cell_type": "markdown",
   "id": "01c50e48",
   "metadata": {},
   "source": [
    "1. Load the Titanic dataset,on which EDA and feature engineering, and scaling has been performed in exploration stage \n",
    "2. Perform data preprocessing and feature engineering as required.\n",
    "3. Split the dataset into training and testing sets using train_test_split() function from sklearn.model_selection.\n",
    "4. Initialize the decision tree, logistic regression, and KNN classification models.\n",
    "5. Fit the models on the training data using their respective fit() functions.\n",
    "6. Predict the labels for both the training and testing data using the predict() function of each model.\n",
    "7. Calculate and store the accuracy, precision, recall, F1 score, and AUC ROC for each model using appropriate metrics from sklearn.metrics.\n",
    "8. Plot the AUC curve for each model using the roc_curve() and auc() functions from sklearn.metrics.\n",
    "9. Create a dataframe to store the performance metrics for each model, including the train accuracy, test accuracy, train precision, test precision, train recall, test recall, train F1 score, test F1 score, train AUC ROC, and test AUC ROC.\n",
    "10. Print the performance metrics in a tabular format.\n",
    "\n",
    "\n",
    "This created dataframe stores the performance metrics for each model, allowing for easy comparison and analysis of the classification algorithms on the Titanic dataset."
   ]
  },
  {
   "cell_type": "code",
   "execution_count": 59,
   "id": "245a43cb",
   "metadata": {},
   "outputs": [],
   "source": [
    "import numpy as np\n",
    "import pandas as pd\n",
    "import matplotlib.pyplot as plt\n",
    "from sklearn.tree import DecisionTreeClassifier, export_graphviz, plot_tree\n",
    "import warnings\n",
    "warnings.filterwarnings(\"ignore\")\n",
    "\n"
   ]
  },
  {
   "cell_type": "code",
   "execution_count": 60,
   "id": "e7c5b662",
   "metadata": {},
   "outputs": [
    {
     "data": {
      "text/html": [
       "<div>\n",
       "<style scoped>\n",
       "    .dataframe tbody tr th:only-of-type {\n",
       "        vertical-align: middle;\n",
       "    }\n",
       "\n",
       "    .dataframe tbody tr th {\n",
       "        vertical-align: top;\n",
       "    }\n",
       "\n",
       "    .dataframe thead th {\n",
       "        text-align: right;\n",
       "    }\n",
       "</style>\n",
       "<table border=\"1\" class=\"dataframe\">\n",
       "  <thead>\n",
       "    <tr style=\"text-align: right;\">\n",
       "      <th></th>\n",
       "      <th>PassengerId</th>\n",
       "      <th>Survived</th>\n",
       "      <th>Name</th>\n",
       "      <th>Age</th>\n",
       "      <th>Ticket</th>\n",
       "      <th>Fare</th>\n",
       "      <th>Pclass_2</th>\n",
       "      <th>Pclass_3</th>\n",
       "      <th>Sex_male</th>\n",
       "      <th>Embarked_Q</th>\n",
       "      <th>Embarked_S</th>\n",
       "      <th>family_type_Large</th>\n",
       "      <th>family_type_Medium</th>\n",
       "    </tr>\n",
       "  </thead>\n",
       "  <tbody>\n",
       "    <tr>\n",
       "      <th>0</th>\n",
       "      <td>1</td>\n",
       "      <td>0</td>\n",
       "      <td>Braund, Mr. Owen Harris</td>\n",
       "      <td>22</td>\n",
       "      <td>A/5 21171</td>\n",
       "      <td>7.2500</td>\n",
       "      <td>0</td>\n",
       "      <td>1</td>\n",
       "      <td>1</td>\n",
       "      <td>0</td>\n",
       "      <td>1</td>\n",
       "      <td>0</td>\n",
       "      <td>1</td>\n",
       "    </tr>\n",
       "    <tr>\n",
       "      <th>1</th>\n",
       "      <td>3</td>\n",
       "      <td>1</td>\n",
       "      <td>Heikkinen, Miss. Laina</td>\n",
       "      <td>26</td>\n",
       "      <td>STON/O2. 3101282</td>\n",
       "      <td>7.9250</td>\n",
       "      <td>0</td>\n",
       "      <td>1</td>\n",
       "      <td>0</td>\n",
       "      <td>0</td>\n",
       "      <td>1</td>\n",
       "      <td>0</td>\n",
       "      <td>0</td>\n",
       "    </tr>\n",
       "    <tr>\n",
       "      <th>2</th>\n",
       "      <td>4</td>\n",
       "      <td>1</td>\n",
       "      <td>Futrelle, Mrs. Jacques Heath (Lily May Peel)</td>\n",
       "      <td>35</td>\n",
       "      <td>113803</td>\n",
       "      <td>53.1000</td>\n",
       "      <td>0</td>\n",
       "      <td>0</td>\n",
       "      <td>0</td>\n",
       "      <td>0</td>\n",
       "      <td>1</td>\n",
       "      <td>0</td>\n",
       "      <td>1</td>\n",
       "    </tr>\n",
       "    <tr>\n",
       "      <th>3</th>\n",
       "      <td>5</td>\n",
       "      <td>0</td>\n",
       "      <td>Allen, Mr. William Henry</td>\n",
       "      <td>35</td>\n",
       "      <td>373450</td>\n",
       "      <td>8.0500</td>\n",
       "      <td>0</td>\n",
       "      <td>1</td>\n",
       "      <td>1</td>\n",
       "      <td>0</td>\n",
       "      <td>1</td>\n",
       "      <td>0</td>\n",
       "      <td>0</td>\n",
       "    </tr>\n",
       "    <tr>\n",
       "      <th>4</th>\n",
       "      <td>6</td>\n",
       "      <td>0</td>\n",
       "      <td>Moran, Mr. James</td>\n",
       "      <td>29</td>\n",
       "      <td>330877</td>\n",
       "      <td>8.4583</td>\n",
       "      <td>0</td>\n",
       "      <td>1</td>\n",
       "      <td>1</td>\n",
       "      <td>1</td>\n",
       "      <td>0</td>\n",
       "      <td>0</td>\n",
       "      <td>0</td>\n",
       "    </tr>\n",
       "  </tbody>\n",
       "</table>\n",
       "</div>"
      ],
      "text/plain": [
       "   PassengerId  Survived                                          Name  Age  \\\n",
       "0            1         0                       Braund, Mr. Owen Harris   22   \n",
       "1            3         1                        Heikkinen, Miss. Laina   26   \n",
       "2            4         1  Futrelle, Mrs. Jacques Heath (Lily May Peel)   35   \n",
       "3            5         0                      Allen, Mr. William Henry   35   \n",
       "4            6         0                              Moran, Mr. James   29   \n",
       "\n",
       "             Ticket     Fare  Pclass_2  Pclass_3  Sex_male  Embarked_Q  \\\n",
       "0         A/5 21171   7.2500         0         1         1           0   \n",
       "1  STON/O2. 3101282   7.9250         0         1         0           0   \n",
       "2            113803  53.1000         0         0         0           0   \n",
       "3            373450   8.0500         0         1         1           0   \n",
       "4            330877   8.4583         0         1         1           1   \n",
       "\n",
       "   Embarked_S  family_type_Large  family_type_Medium  \n",
       "0           1                  0                   1  \n",
       "1           1                  0                   0  \n",
       "2           1                  0                   1  \n",
       "3           1                  0                   0  \n",
       "4           0                  0                   0  "
      ]
     },
     "execution_count": 60,
     "metadata": {},
     "output_type": "execute_result"
    }
   ],
   "source": [
    "df=pd.read_csv('Titanic_Cleaned.csv')\n",
    "df.head()"
   ]
  },
  {
   "cell_type": "code",
   "execution_count": 61,
   "id": "06703233",
   "metadata": {},
   "outputs": [
    {
     "data": {
      "text/plain": [
       "Index(['PassengerId', 'Survived', 'Name', 'Age', 'Ticket', 'Fare', 'Pclass_2',\n",
       "       'Pclass_3', 'Sex_male', 'Embarked_Q', 'Embarked_S', 'family_type_Large',\n",
       "       'family_type_Medium'],\n",
       "      dtype='object')"
      ]
     },
     "execution_count": 61,
     "metadata": {},
     "output_type": "execute_result"
    }
   ],
   "source": [
    "df.columns"
   ]
  },
  {
   "cell_type": "code",
   "execution_count": 62,
   "id": "3fa227bc",
   "metadata": {},
   "outputs": [],
   "source": [
    "# drop unneccesary columns \n",
    "df=df.drop(['PassengerId','Name','Ticket'],1)\n"
   ]
  },
  {
   "cell_type": "code",
   "execution_count": 63,
   "id": "7cde8302",
   "metadata": {},
   "outputs": [
    {
     "data": {
      "text/plain": [
       "Index(['Survived', 'Age', 'Fare', 'Pclass_2', 'Pclass_3', 'Sex_male',\n",
       "       'Embarked_Q', 'Embarked_S', 'family_type_Large', 'family_type_Medium'],\n",
       "      dtype='object')"
      ]
     },
     "execution_count": 63,
     "metadata": {},
     "output_type": "execute_result"
    }
   ],
   "source": [
    "df.columns"
   ]
  },
  {
   "cell_type": "code",
   "execution_count": 64,
   "id": "29ab8e30",
   "metadata": {},
   "outputs": [
    {
     "data": {
      "text/plain": [
       "(1132, 10)"
      ]
     },
     "execution_count": 64,
     "metadata": {},
     "output_type": "execute_result"
    }
   ],
   "source": [
    "df.shape"
   ]
  },
  {
   "cell_type": "code",
   "execution_count": 65,
   "id": "9d66c06f",
   "metadata": {},
   "outputs": [
    {
     "data": {
      "text/plain": [
       "Survived              0\n",
       "Age                   0\n",
       "Fare                  0\n",
       "Pclass_2              0\n",
       "Pclass_3              0\n",
       "Sex_male              0\n",
       "Embarked_Q            0\n",
       "Embarked_S            0\n",
       "family_type_Large     0\n",
       "family_type_Medium    0\n",
       "dtype: int64"
      ]
     },
     "execution_count": 65,
     "metadata": {},
     "output_type": "execute_result"
    }
   ],
   "source": [
    "#check for null values \n",
    "df.isna().sum()"
   ]
  },
  {
   "cell_type": "code",
   "execution_count": 165,
   "id": "dd9f9558",
   "metadata": {},
   "outputs": [],
   "source": [
    "from sklearn.preprocessing import MinMaxScaler\n",
    "\n",
    "# Create a MinMaxScaler object\n",
    "scaler = MinMaxScaler()\n",
    "\n",
    "# Scale the 'Age' and 'Fare' columns\n",
    "df[['Age', 'Fare']] = scaler.fit_transform(df[['Age', 'Fare']])\n"
   ]
  },
  {
   "cell_type": "code",
   "execution_count": 166,
   "id": "017d49db",
   "metadata": {},
   "outputs": [
    {
     "data": {
      "text/html": [
       "<div>\n",
       "<style scoped>\n",
       "    .dataframe tbody tr th:only-of-type {\n",
       "        vertical-align: middle;\n",
       "    }\n",
       "\n",
       "    .dataframe tbody tr th {\n",
       "        vertical-align: top;\n",
       "    }\n",
       "\n",
       "    .dataframe thead th {\n",
       "        text-align: right;\n",
       "    }\n",
       "</style>\n",
       "<table border=\"1\" class=\"dataframe\">\n",
       "  <thead>\n",
       "    <tr style=\"text-align: right;\">\n",
       "      <th></th>\n",
       "      <th>Age</th>\n",
       "      <th>Fare</th>\n",
       "      <th>Pclass_2</th>\n",
       "      <th>Pclass_3</th>\n",
       "      <th>Sex_male</th>\n",
       "      <th>Embarked_Q</th>\n",
       "      <th>Embarked_S</th>\n",
       "      <th>family_type_Large</th>\n",
       "      <th>family_type_Medium</th>\n",
       "    </tr>\n",
       "  </thead>\n",
       "  <tbody>\n",
       "    <tr>\n",
       "      <th>0</th>\n",
       "      <td>0.333333</td>\n",
       "      <td>0.111538</td>\n",
       "      <td>0</td>\n",
       "      <td>1</td>\n",
       "      <td>1</td>\n",
       "      <td>0</td>\n",
       "      <td>1</td>\n",
       "      <td>0</td>\n",
       "      <td>1</td>\n",
       "    </tr>\n",
       "    <tr>\n",
       "      <th>1</th>\n",
       "      <td>0.393939</td>\n",
       "      <td>0.121923</td>\n",
       "      <td>0</td>\n",
       "      <td>1</td>\n",
       "      <td>0</td>\n",
       "      <td>0</td>\n",
       "      <td>1</td>\n",
       "      <td>0</td>\n",
       "      <td>0</td>\n",
       "    </tr>\n",
       "  </tbody>\n",
       "</table>\n",
       "</div>"
      ],
      "text/plain": [
       "        Age      Fare  Pclass_2  Pclass_3  Sex_male  Embarked_Q  Embarked_S  \\\n",
       "0  0.333333  0.111538         0         1         1           0           1   \n",
       "1  0.393939  0.121923         0         1         0           0           1   \n",
       "\n",
       "   family_type_Large  family_type_Medium  \n",
       "0                  0                   1  \n",
       "1                  0                   0  "
      ]
     },
     "execution_count": 166,
     "metadata": {},
     "output_type": "execute_result"
    }
   ],
   "source": [
    "#features as X\n",
    "X= df.drop('Survived', axis=1)\n",
    "#labels as y\n",
    "y=df.Survived\n",
    "X.head(2)"
   ]
  },
  {
   "cell_type": "code",
   "execution_count": 167,
   "id": "9bcac84f",
   "metadata": {},
   "outputs": [],
   "source": [
    "from sklearn.model_selection import train_test_split\n",
    "\n",
    "# split data into train and test in 80:20 ratio\n",
    "X_train, X_test, y_train, y_test = train_test_split(X, y, test_size=0.2, random_state=0)\n",
    "\n",
    "# The above code will split the data into 80% training and 20% testing datasets.\n",
    "# The 'random_state' parameter ensures that the random splitting is reproducible.\n"
   ]
  },
  {
   "cell_type": "code",
   "execution_count": 168,
   "id": "11ae8d4e",
   "metadata": {},
   "outputs": [
    {
     "data": {
      "text/plain": [
       "(905, 9)"
      ]
     },
     "execution_count": 168,
     "metadata": {},
     "output_type": "execute_result"
    }
   ],
   "source": [
    "X_train.shape"
   ]
  },
  {
   "cell_type": "code",
   "execution_count": 169,
   "id": "7312ec36",
   "metadata": {},
   "outputs": [
    {
     "data": {
      "text/plain": [
       "(227, 9)"
      ]
     },
     "execution_count": 169,
     "metadata": {},
     "output_type": "execute_result"
    }
   ],
   "source": [
    "X_test.shape"
   ]
  },
  {
   "cell_type": "markdown",
   "id": "415a5081",
   "metadata": {},
   "source": [
    "# Decision Tree "
   ]
  },
  {
   "cell_type": "code",
   "execution_count": 170,
   "id": "382e7d14",
   "metadata": {},
   "outputs": [
    {
     "data": {
      "text/plain": [
       "DecisionTreeClassifier(criterion='entropy', max_depth=5)"
      ]
     },
     "execution_count": 170,
     "metadata": {},
     "output_type": "execute_result"
    }
   ],
   "source": [
    "# Train Decision Tree model\n",
    "dt_model = DecisionTreeClassifier(criterion='entropy',max_depth=5)\n",
    "dt_model.fit(X_train, y_train)\n"
   ]
  },
  {
   "cell_type": "code",
   "execution_count": 171,
   "id": "cfa64d86",
   "metadata": {},
   "outputs": [
    {
     "data": {
      "text/plain": [
       "array([0, 1, 1, 1, 1, 0, 0, 0, 0, 1, 0, 0, 0, 1, 0, 0, 0, 0, 0, 0, 1, 0,\n",
       "       0, 0, 1, 0, 1, 0, 0, 0, 0, 1, 0, 0, 0, 0, 0, 0, 0, 1, 1, 0, 0, 0,\n",
       "       0, 1, 1, 0, 0, 0, 0, 0, 1, 0, 1, 1, 0, 0, 1, 0, 0, 1, 0, 0, 0, 1,\n",
       "       1, 0, 0, 1, 0, 1, 0, 0, 0, 0, 0, 0, 1, 0, 0, 0, 1, 0, 1, 0, 0, 1,\n",
       "       0, 1, 0, 0, 1, 0, 1, 1, 0, 1, 0, 0, 0, 1, 0, 1, 0, 0, 0, 0, 0, 0,\n",
       "       1, 1, 1, 1, 0, 0, 1, 0, 1, 0, 0, 1, 0, 0, 0, 1, 0, 0, 0, 0, 0, 1,\n",
       "       1, 0, 1, 1, 0, 1, 0, 1, 0, 0, 0, 0, 0, 1, 1, 0, 1, 0, 1, 0, 0, 0,\n",
       "       0, 0, 0, 0, 0, 0, 0, 0, 1, 0, 0, 0, 0, 0, 1, 1, 0, 1, 1, 1, 0, 0,\n",
       "       0, 1, 1, 0, 0, 0, 0, 1, 0, 0, 0, 1, 1, 0, 0, 0, 1, 0, 1, 1, 1, 0,\n",
       "       0, 0, 1, 1, 0, 1, 0, 0, 0, 0, 0, 0, 0, 1, 0, 0, 0, 0, 1, 1, 0, 0,\n",
       "       0, 0, 0, 0, 1, 1, 0, 1, 0, 0, 0, 0, 0, 1, 0, 0, 1, 0, 1, 0, 0, 1,\n",
       "       1, 0, 1, 0, 0, 0, 0, 1, 0, 0, 1, 0, 0, 0, 0, 1, 0, 1, 0, 0, 0, 1,\n",
       "       0, 1, 0, 0, 0, 0, 0, 1, 0, 1, 0, 1, 0, 1, 0, 0, 1, 1, 1, 1, 1, 0,\n",
       "       0, 0, 0, 1, 0, 0, 0, 0, 1, 0, 1, 0, 0, 0, 1, 0, 0, 0, 0, 1, 0, 0,\n",
       "       0, 0, 0, 0, 0, 0, 0, 0, 0, 0, 0, 0, 0, 0, 0, 1, 0, 1, 0, 1, 1, 0,\n",
       "       0, 1, 0, 1, 0, 1, 1, 1, 0, 1, 0, 0, 0, 0, 1, 0, 0, 1, 1, 1, 0, 0,\n",
       "       0, 1, 1, 0, 1, 0, 0, 1, 0, 1, 0, 0, 0, 1, 1, 0, 0, 0, 0, 0, 0, 0,\n",
       "       1, 1, 1, 1, 1, 0, 1, 0, 0, 1, 0, 0, 1, 0, 0, 1, 1, 1, 0, 1, 0, 0,\n",
       "       0, 0, 1, 0, 1, 0, 0, 0, 0, 1, 0, 0, 0, 1, 0, 1, 0, 0, 0, 1, 1, 0,\n",
       "       0, 0, 1, 0, 1, 0, 0, 0, 1, 0, 0, 0, 0, 0, 1, 1, 1, 0, 1, 0, 1, 1,\n",
       "       1, 0, 1, 0, 0, 0, 0, 0, 0, 1, 0, 0, 0, 1, 1, 0, 1, 1, 0, 0, 1, 0,\n",
       "       0, 1, 0, 0, 0, 0, 0, 0, 0, 0, 0, 1, 1, 1, 1, 0, 0, 0, 1, 0, 1, 1,\n",
       "       0, 0, 0, 0, 0, 1, 0, 0, 0, 0, 0, 0, 0, 1, 0, 1, 1, 1, 0, 0, 0, 0,\n",
       "       0, 1, 0, 0, 1, 0, 0, 1, 0, 0, 0, 1, 0, 0, 0, 0, 0, 1, 1, 0, 1, 0,\n",
       "       1, 0, 1, 0, 1, 0, 1, 0, 0, 0, 0, 0, 1, 0, 0, 0, 0, 0, 1, 0, 0, 0,\n",
       "       0, 0, 0, 1, 0, 0, 0, 0, 1, 0, 0, 0, 1, 0, 1, 0, 0, 0, 1, 0, 0, 0,\n",
       "       0, 0, 1, 1, 0, 1, 1, 0, 0, 1, 0, 0, 0, 0, 0, 0, 0, 0, 0, 1, 0, 1,\n",
       "       0, 0, 1, 0, 0, 1, 0, 1, 0, 0, 0, 1, 0, 0, 0, 0, 0, 0, 0, 1, 1, 0,\n",
       "       0, 0, 1, 0, 1, 1, 0, 0, 1, 1, 0, 0, 1, 0, 0, 0, 0, 1, 0, 1, 0, 1,\n",
       "       0, 0, 0, 0, 0, 1, 0, 0, 0, 1, 1, 0, 1, 0, 0, 1, 0, 1, 1, 0, 0, 0,\n",
       "       1, 1, 0, 0, 0, 0, 0, 1, 0, 1, 0, 0, 0, 0, 0, 1, 0, 0, 0, 0, 1, 1,\n",
       "       0, 0, 1, 0, 0, 1, 0, 0, 1, 0, 0, 1, 0, 1, 1, 0, 0, 1, 0, 1, 0, 1,\n",
       "       0, 1, 1, 0, 0, 1, 0, 1, 0, 1, 1, 0, 0, 0, 0, 1, 0, 0, 0, 1, 0, 0,\n",
       "       0, 1, 1, 0, 0, 1, 1, 1, 0, 0, 1, 1, 0, 0, 0, 0, 1, 0, 0, 0, 1, 0,\n",
       "       1, 0, 0, 0, 0, 1, 0, 0, 0, 1, 0, 1, 0, 1, 0, 0, 0, 1, 0, 0, 0, 1,\n",
       "       0, 0, 1, 0, 0, 1, 0, 1, 1, 0, 0, 0, 1, 0, 0, 0, 0, 0, 1, 1, 1, 0,\n",
       "       0, 0, 0, 1, 0, 0, 1, 1, 0, 0, 0, 0, 0, 1, 1, 0, 0, 1, 0, 1, 0, 1,\n",
       "       1, 0, 1, 1, 0, 1, 0, 0, 1, 0, 0, 0, 0, 1, 0, 1, 0, 1, 0, 0, 1, 0,\n",
       "       0, 0, 0, 0, 1, 0, 0, 0, 0, 0, 0, 0, 0, 0, 0, 0, 0, 0, 0, 0, 0, 0,\n",
       "       1, 0, 0, 0, 0, 0, 0, 0, 0, 0, 0, 0, 0, 0, 0, 0, 0, 0, 0, 0, 0, 1,\n",
       "       0, 0, 0, 0, 0, 0, 1, 0, 1, 0, 1, 1, 0, 0, 0, 0, 1, 0, 0, 0, 0, 0,\n",
       "       0, 0, 1], dtype=int64)"
      ]
     },
     "execution_count": 171,
     "metadata": {},
     "output_type": "execute_result"
    }
   ],
   "source": [
    "#evaluate train and test performances \n",
    "dt_train_pred = dt_model.predict(X_train)\n",
    "dt_train_pred"
   ]
  },
  {
   "cell_type": "code",
   "execution_count": 172,
   "id": "d154ef36",
   "metadata": {},
   "outputs": [
    {
     "data": {
      "text/plain": [
       "array([1, 0, 0, 1, 0, 0, 0, 0, 0, 0, 0, 0, 0, 0, 0, 0, 0, 0, 0, 0, 0, 0,\n",
       "       0, 1, 0, 0, 0, 0, 1, 0, 0, 0, 0, 0, 0, 0, 0, 0, 0, 1, 0, 1, 0, 0,\n",
       "       0, 1, 0, 1, 1, 1, 1, 0, 0, 0, 0, 0, 0, 0, 1, 0, 1, 1, 0, 0, 1, 0,\n",
       "       1, 0, 0, 0, 0, 0, 0, 0, 0, 0, 1, 0, 1, 1, 0, 0, 1, 0, 0, 0, 0, 1,\n",
       "       1, 0, 1, 1, 0, 0, 0, 0, 0, 0, 1, 0, 0, 0, 0, 1, 1, 0, 0, 1, 1, 1,\n",
       "       1, 0, 0, 0, 1, 0, 0, 0, 0, 0, 0, 0, 0, 1, 1, 1, 0, 0, 0, 0, 0, 0,\n",
       "       1, 0, 1, 0, 0, 0, 0, 0, 1, 1, 1, 0, 0, 0, 0, 1, 0, 0, 0, 0, 0, 0,\n",
       "       1, 0, 1, 1, 0, 1, 0, 0, 0, 0, 1, 0, 0, 0, 1, 1, 0, 1, 0, 1, 0, 0,\n",
       "       1, 0, 1, 1, 1, 1, 0, 0, 0, 1, 0, 0, 1, 1, 1, 0, 1, 1, 1, 1, 1, 0,\n",
       "       0, 0, 0, 1, 1, 0, 0, 0, 0, 0, 1, 0, 1, 1, 0, 0, 0, 0, 0, 0, 0, 1,\n",
       "       0, 0, 1, 1, 1, 0, 0], dtype=int64)"
      ]
     },
     "execution_count": 172,
     "metadata": {},
     "output_type": "execute_result"
    }
   ],
   "source": [
    "#for test set \n",
    "dt_test_pred=dt_model.predict(X_test)\n",
    "dt_test_pred\n"
   ]
  },
  {
   "cell_type": "code",
   "execution_count": 173,
   "id": "eac9f0ff",
   "metadata": {},
   "outputs": [
    {
     "data": {
      "text/plain": [
       "(0.8458149779735683, 0.8784530386740331)"
      ]
     },
     "execution_count": 173,
     "metadata": {},
     "output_type": "execute_result"
    }
   ],
   "source": [
    "from sklearn.metrics import accuracy_score, precision_score, recall_score, f1_score, roc_curve, auc\n",
    "import statsmodels.api as sm\n",
    "# check accuracy for train and test \n",
    "dt_test_accuracy=accuracy_score(y_test, dt_test_pred)\n",
    "dt_train_accuracy=accuracy_score(y_train, dt_train_pred)\n",
    "dt_test_accuracy,dt_train_accuracy\n"
   ]
  },
  {
   "cell_type": "code",
   "execution_count": 174,
   "id": "3a484ee6",
   "metadata": {},
   "outputs": [
    {
     "data": {
      "text/plain": [
       "(0.8430034129692833, 0.7671232876712328)"
      ]
     },
     "execution_count": 174,
     "metadata": {},
     "output_type": "execute_result"
    }
   ],
   "source": [
    "#check precision for train and test \n",
    "dt_train_precision=precision_score(y_train, dt_train_pred)\n",
    "dt_test_precision=precision_score(y_test, dt_test_pred)\n",
    "dt_train_precision,dt_test_precision"
   ]
  },
  {
   "cell_type": "code",
   "execution_count": 175,
   "id": "080debee",
   "metadata": {},
   "outputs": [
    {
     "data": {
      "text/plain": [
       "(0.7942122186495176, 0.7567567567567568)"
      ]
     },
     "execution_count": 175,
     "metadata": {},
     "output_type": "execute_result"
    }
   ],
   "source": [
    "#check recall score  for train and test \n",
    "dt_train_recall=recall_score(y_train, dt_train_pred)\n",
    "dt_test_recall=recall_score(y_test, dt_test_pred)\n",
    "dt_train_recall,dt_test_recall"
   ]
  },
  {
   "cell_type": "code",
   "execution_count": 176,
   "id": "ed3c9d17",
   "metadata": {},
   "outputs": [
    {
     "data": {
      "text/plain": [
       "(0.8178807947019867, 0.761904761904762)"
      ]
     },
     "execution_count": 176,
     "metadata": {},
     "output_type": "execute_result"
    }
   ],
   "source": [
    "from sklearn.metrics import f1_score\n",
    "dt_train_f1=f1_score(y_train, dt_train_pred)\n",
    "dt_test_f1=f1_score(y_test, dt_test_pred)\n",
    "dt_train_f1,dt_test_f1\n"
   ]
  },
  {
   "cell_type": "code",
   "execution_count": 177,
   "id": "2d1326bc",
   "metadata": {},
   "outputs": [],
   "source": [
    "import statsmodels.api as sm\n",
    "import matplotlib.pyplot as plt\n",
    "from sklearn.metrics import plot_roc_curve,roc_auc_score"
   ]
  },
  {
   "cell_type": "code",
   "execution_count": 178,
   "id": "42d6e72b",
   "metadata": {},
   "outputs": [
    {
     "data": {
      "text/plain": [
       "(0.9226698929271276, 0.8803214979685569)"
      ]
     },
     "execution_count": 178,
     "metadata": {},
     "output_type": "execute_result"
    }
   ],
   "source": [
    "# Calculate area under roc curve for train and test\n",
    "dt_train_auc = roc_auc_score(y_train, dt_model.predict_proba(X_train)[:,1])\n",
    "dt_test_auc = roc_auc_score(y_test, dt_model.predict_proba(X_test)[:,1])\n",
    "dt_train_auc,dt_test_auc"
   ]
  },
  {
   "cell_type": "markdown",
   "id": "271f1f88",
   "metadata": {},
   "source": [
    "# Logistic Regression\n"
   ]
  },
  {
   "cell_type": "code",
   "execution_count": 179,
   "id": "865c9e2b",
   "metadata": {},
   "outputs": [],
   "source": [
    "from sklearn.linear_model import LogisticRegression"
   ]
  },
  {
   "cell_type": "code",
   "execution_count": 180,
   "id": "0147ef92",
   "metadata": {},
   "outputs": [
    {
     "data": {
      "text/plain": [
       "LogisticRegression()"
      ]
     },
     "execution_count": 180,
     "metadata": {},
     "output_type": "execute_result"
    }
   ],
   "source": [
    "# Train logistic regression model\n",
    "lr_model = LogisticRegression()\n",
    "lr_model.fit(X_train, y_train)"
   ]
  },
  {
   "cell_type": "code",
   "execution_count": 181,
   "id": "36ecc245",
   "metadata": {},
   "outputs": [
    {
     "data": {
      "text/plain": [
       "array([1, 1, 1, 1, 0, 0, 0, 0, 0, 1, 1, 0, 0, 1, 0, 0, 0, 0, 0, 0, 1, 0,\n",
       "       0, 0, 1, 0, 1, 0, 0, 0, 0, 1, 0, 0, 0, 0, 0, 0, 0, 1, 1, 0, 0, 0,\n",
       "       0, 1, 1, 0, 0, 0, 0, 0, 1, 0, 1, 0, 0, 0, 1, 0, 0, 1, 0, 0, 0, 1,\n",
       "       1, 0, 0, 1, 0, 1, 0, 0, 0, 0, 0, 0, 1, 0, 0, 0, 1, 0, 1, 0, 0, 1,\n",
       "       0, 1, 0, 0, 1, 0, 1, 1, 0, 1, 0, 0, 0, 1, 0, 1, 0, 0, 0, 0, 0, 0,\n",
       "       1, 1, 1, 1, 0, 0, 1, 0, 1, 0, 0, 1, 0, 0, 0, 1, 0, 0, 0, 0, 0, 1,\n",
       "       1, 0, 1, 1, 0, 1, 0, 1, 0, 0, 0, 0, 0, 1, 1, 0, 1, 0, 1, 0, 0, 0,\n",
       "       0, 0, 0, 0, 0, 0, 0, 0, 1, 0, 0, 0, 0, 0, 1, 1, 0, 1, 1, 1, 0, 0,\n",
       "       0, 1, 1, 0, 0, 0, 0, 1, 0, 0, 0, 1, 1, 0, 0, 0, 1, 0, 1, 1, 1, 0,\n",
       "       0, 0, 1, 1, 0, 1, 0, 0, 0, 0, 0, 0, 0, 1, 0, 0, 0, 0, 1, 1, 0, 0,\n",
       "       0, 0, 0, 0, 1, 1, 1, 1, 0, 0, 0, 0, 0, 1, 0, 0, 1, 0, 1, 0, 0, 1,\n",
       "       1, 0, 1, 0, 0, 0, 0, 1, 0, 0, 1, 0, 0, 1, 0, 1, 0, 1, 0, 0, 0, 1,\n",
       "       0, 0, 0, 0, 0, 0, 0, 1, 0, 1, 1, 1, 0, 1, 0, 0, 1, 1, 1, 1, 1, 0,\n",
       "       0, 0, 0, 1, 0, 0, 0, 0, 1, 0, 1, 0, 0, 0, 1, 0, 0, 0, 0, 1, 0, 0,\n",
       "       0, 0, 0, 0, 0, 0, 0, 0, 0, 0, 0, 0, 0, 0, 0, 1, 0, 1, 0, 1, 0, 0,\n",
       "       0, 1, 0, 1, 0, 1, 1, 1, 0, 1, 0, 0, 0, 0, 1, 0, 0, 1, 1, 1, 0, 0,\n",
       "       0, 1, 1, 0, 1, 0, 0, 1, 0, 1, 0, 0, 0, 1, 1, 0, 0, 0, 0, 0, 0, 0,\n",
       "       1, 1, 0, 1, 1, 0, 1, 0, 0, 1, 0, 0, 1, 1, 0, 1, 1, 1, 0, 1, 0, 0,\n",
       "       0, 0, 1, 0, 1, 0, 0, 0, 0, 1, 0, 0, 0, 1, 0, 1, 0, 0, 0, 1, 1, 0,\n",
       "       0, 0, 1, 0, 1, 0, 0, 0, 1, 0, 0, 0, 0, 0, 1, 1, 1, 0, 1, 0, 1, 1,\n",
       "       1, 0, 1, 0, 0, 0, 0, 0, 0, 1, 0, 0, 0, 1, 1, 0, 1, 1, 0, 0, 1, 1,\n",
       "       0, 1, 0, 0, 0, 0, 0, 0, 0, 0, 0, 1, 1, 1, 1, 0, 0, 0, 1, 0, 1, 1,\n",
       "       0, 0, 0, 0, 0, 1, 0, 0, 0, 0, 0, 0, 0, 1, 0, 1, 1, 1, 0, 0, 0, 0,\n",
       "       0, 1, 0, 0, 1, 0, 0, 1, 0, 0, 0, 1, 0, 0, 0, 0, 0, 1, 1, 0, 1, 0,\n",
       "       0, 0, 1, 0, 1, 0, 1, 0, 0, 0, 0, 0, 1, 0, 0, 0, 0, 0, 1, 0, 0, 0,\n",
       "       0, 0, 0, 1, 0, 0, 0, 0, 1, 0, 0, 0, 1, 0, 1, 0, 0, 0, 1, 0, 0, 0,\n",
       "       0, 0, 1, 1, 0, 1, 1, 0, 0, 1, 0, 0, 0, 1, 0, 0, 0, 0, 0, 1, 0, 1,\n",
       "       0, 0, 1, 0, 0, 1, 0, 1, 0, 0, 0, 1, 0, 0, 0, 0, 0, 0, 0, 1, 1, 0,\n",
       "       0, 0, 1, 0, 1, 1, 0, 0, 1, 1, 0, 0, 1, 0, 0, 0, 0, 1, 0, 0, 0, 1,\n",
       "       0, 0, 0, 0, 0, 1, 0, 0, 0, 0, 1, 0, 1, 0, 0, 0, 0, 1, 1, 0, 0, 0,\n",
       "       0, 1, 0, 0, 0, 0, 0, 1, 0, 1, 0, 0, 0, 0, 0, 1, 0, 1, 0, 0, 1, 1,\n",
       "       0, 0, 1, 0, 0, 1, 0, 0, 1, 0, 0, 1, 0, 1, 1, 0, 0, 1, 0, 1, 0, 1,\n",
       "       0, 0, 1, 0, 0, 0, 0, 1, 0, 1, 1, 0, 1, 0, 0, 1, 0, 0, 0, 1, 0, 0,\n",
       "       0, 1, 1, 0, 0, 1, 1, 1, 0, 0, 1, 1, 0, 0, 0, 0, 1, 0, 0, 0, 1, 0,\n",
       "       0, 0, 0, 0, 0, 1, 0, 0, 0, 1, 0, 1, 0, 1, 0, 0, 0, 1, 0, 0, 0, 1,\n",
       "       0, 0, 1, 0, 0, 1, 0, 1, 1, 0, 0, 0, 1, 0, 0, 0, 0, 0, 1, 1, 1, 1,\n",
       "       0, 0, 0, 1, 0, 0, 1, 1, 0, 0, 0, 0, 0, 1, 1, 0, 0, 1, 0, 1, 0, 1,\n",
       "       1, 0, 1, 1, 0, 1, 0, 0, 1, 0, 0, 0, 0, 1, 0, 1, 0, 1, 0, 1, 1, 0,\n",
       "       0, 0, 0, 0, 1, 0, 0, 0, 0, 0, 0, 0, 0, 0, 0, 0, 0, 1, 0, 0, 0, 0,\n",
       "       1, 0, 0, 0, 0, 0, 0, 0, 0, 0, 0, 0, 0, 0, 0, 0, 0, 0, 0, 0, 0, 1,\n",
       "       0, 0, 0, 0, 0, 0, 1, 0, 1, 0, 1, 0, 0, 0, 0, 0, 1, 0, 0, 0, 0, 0,\n",
       "       0, 0, 1], dtype=int64)"
      ]
     },
     "execution_count": 181,
     "metadata": {},
     "output_type": "execute_result"
    }
   ],
   "source": [
    "#evaluate model performnance on train and test \n",
    "lr_train_pred = lr_model.predict(X_train)\n",
    "lr_train_pred"
   ]
  },
  {
   "cell_type": "code",
   "execution_count": 182,
   "id": "ea9ad83e",
   "metadata": {},
   "outputs": [
    {
     "data": {
      "text/plain": [
       "array([1, 0, 0, 0, 0, 0, 0, 0, 0, 0, 0, 0, 0, 0, 0, 0, 0, 0, 0, 0, 0, 0,\n",
       "       0, 1, 0, 0, 0, 0, 0, 0, 0, 0, 0, 0, 0, 0, 0, 0, 0, 1, 0, 1, 0, 0,\n",
       "       0, 1, 0, 1, 1, 1, 1, 0, 0, 0, 0, 0, 0, 0, 1, 0, 0, 1, 0, 0, 1, 0,\n",
       "       1, 0, 0, 0, 0, 0, 0, 0, 0, 0, 1, 0, 1, 1, 0, 0, 1, 0, 0, 0, 0, 1,\n",
       "       1, 0, 1, 1, 0, 0, 0, 0, 0, 0, 1, 0, 0, 0, 0, 1, 1, 0, 0, 1, 1, 1,\n",
       "       1, 0, 0, 0, 1, 0, 0, 0, 0, 0, 0, 0, 0, 1, 1, 1, 0, 0, 0, 0, 0, 0,\n",
       "       1, 0, 1, 0, 0, 0, 0, 0, 1, 1, 1, 0, 0, 0, 0, 1, 0, 0, 0, 0, 0, 0,\n",
       "       1, 0, 1, 1, 0, 1, 0, 0, 0, 0, 1, 0, 0, 0, 1, 1, 0, 0, 0, 1, 0, 0,\n",
       "       1, 0, 1, 1, 1, 1, 0, 0, 0, 1, 0, 0, 0, 1, 1, 0, 1, 1, 1, 0, 1, 0,\n",
       "       0, 0, 0, 1, 1, 0, 0, 0, 0, 0, 1, 0, 1, 1, 0, 0, 0, 0, 0, 0, 0, 1,\n",
       "       0, 0, 1, 1, 1, 0, 0], dtype=int64)"
      ]
     },
     "execution_count": 182,
     "metadata": {},
     "output_type": "execute_result"
    }
   ],
   "source": [
    "lr_test_pred=lr_model.predict(X_test)\n",
    "lr_test_pred"
   ]
  },
  {
   "cell_type": "code",
   "execution_count": 183,
   "id": "5c2d6ccc",
   "metadata": {},
   "outputs": [
    {
     "data": {
      "text/plain": [
       "(0.8530386740331491, 0.8370044052863436)"
      ]
     },
     "execution_count": 183,
     "metadata": {},
     "output_type": "execute_result"
    }
   ],
   "source": [
    "# check accuracy for train and test \n",
    "lr_train_accuracy=accuracy_score(y_train, lr_train_pred)\n",
    "lr_test_accuracy=accuracy_score(y_test, lr_test_pred)\n",
    "lr_train_accuracy,lr_test_accuracy\n"
   ]
  },
  {
   "cell_type": "code",
   "execution_count": 184,
   "id": "d567914c",
   "metadata": {},
   "outputs": [
    {
     "data": {
      "text/plain": [
       "(0.8047945205479452, 0.7761194029850746)"
      ]
     },
     "execution_count": 184,
     "metadata": {},
     "output_type": "execute_result"
    }
   ],
   "source": [
    "# check precision score for train and test \n",
    "lr_train_precision=precision_score(y_train, lr_train_pred)\n",
    "lr_test_precision=precision_score(y_test, lr_test_pred)\n",
    "lr_train_precision,lr_test_precision\n"
   ]
  },
  {
   "cell_type": "code",
   "execution_count": 185,
   "id": "bd6ad847",
   "metadata": {},
   "outputs": [
    {
     "data": {
      "text/plain": [
       "(0.7794361525704809, 0.7375886524822697)"
      ]
     },
     "execution_count": 185,
     "metadata": {},
     "output_type": "execute_result"
    }
   ],
   "source": [
    "# check f1 score for train and test \n",
    "lr_train_f1=f1_score(y_train, lr_train_pred)\n",
    "lr_test_f1=f1_score(y_test, lr_test_pred)\n",
    "lr_train_f1,lr_test_f1\n"
   ]
  },
  {
   "cell_type": "code",
   "execution_count": 186,
   "id": "050790f0",
   "metadata": {},
   "outputs": [
    {
     "data": {
      "text/plain": [
       "(0.7556270096463023, 0.7027027027027027)"
      ]
     },
     "execution_count": 186,
     "metadata": {},
     "output_type": "execute_result"
    }
   ],
   "source": [
    "# check recall score for train and test \n",
    "lr_train_recall=recall_score(y_train, lr_train_pred)\n",
    "lr_test_recall=recall_score(y_test, lr_test_pred)\n",
    "lr_train_recall,lr_test_recall\n"
   ]
  },
  {
   "cell_type": "code",
   "execution_count": 187,
   "id": "8b6cab12",
   "metadata": {},
   "outputs": [
    {
     "data": {
      "text/plain": [
       "(0.8881905875475008, 0.870296767355591)"
      ]
     },
     "execution_count": 187,
     "metadata": {},
     "output_type": "execute_result"
    }
   ],
   "source": [
    "# Calculate area under roc curve for train and test\n",
    "lr_train_auc = roc_auc_score(y_train, lr_model.predict_proba(X_train)[:,1])\n",
    "lr_test_auc = roc_auc_score(y_test, lr_model.predict_proba(X_test)[:,1])\n",
    "lr_train_auc,lr_test_auc"
   ]
  },
  {
   "cell_type": "markdown",
   "id": "91e6fd9f",
   "metadata": {},
   "source": [
    "# KNN CLASIFICATION \n"
   ]
  },
  {
   "cell_type": "code",
   "execution_count": 188,
   "id": "1976809d",
   "metadata": {},
   "outputs": [],
   "source": [
    "from sklearn.neighbors import KNeighborsClassifier"
   ]
  },
  {
   "cell_type": "code",
   "execution_count": 189,
   "id": "b2a33f92",
   "metadata": {},
   "outputs": [
    {
     "data": {
      "text/plain": [
       "KNeighborsClassifier(n_neighbors=3)"
      ]
     },
     "execution_count": 189,
     "metadata": {},
     "output_type": "execute_result"
    }
   ],
   "source": [
    "# Build KNN classification model\n",
    "knn_model = KNeighborsClassifier(n_neighbors=3)\n",
    "knn_model.fit(X_train, y_train)"
   ]
  },
  {
   "cell_type": "code",
   "execution_count": 190,
   "id": "3d6390c6",
   "metadata": {},
   "outputs": [],
   "source": [
    "# Evaluate model performnace on Train and test data \n"
   ]
  },
  {
   "cell_type": "code",
   "execution_count": 191,
   "id": "6650be45",
   "metadata": {},
   "outputs": [
    {
     "data": {
      "text/plain": [
       "array([0, 1, 1, 0, 1, 0, 0, 0, 0, 1, 0, 0, 0, 0, 0, 0, 0, 0, 0, 0, 1, 0,\n",
       "       0, 0, 1, 0, 1, 0, 0, 0, 0, 1, 0, 0, 0, 0, 0, 0, 0, 1, 1, 0, 0, 0,\n",
       "       0, 1, 1, 0, 0, 0, 0, 0, 1, 0, 1, 1, 0, 0, 1, 0, 0, 1, 0, 0, 1, 1,\n",
       "       1, 0, 0, 1, 0, 1, 0, 0, 0, 0, 0, 0, 0, 0, 0, 0, 1, 0, 1, 0, 0, 1,\n",
       "       0, 1, 0, 0, 1, 0, 1, 1, 0, 1, 0, 0, 0, 1, 0, 1, 0, 0, 0, 0, 0, 0,\n",
       "       1, 0, 1, 1, 0, 1, 0, 0, 1, 0, 0, 1, 0, 0, 0, 1, 0, 0, 0, 0, 0, 1,\n",
       "       1, 0, 1, 1, 0, 1, 0, 1, 0, 0, 0, 0, 0, 1, 1, 1, 1, 0, 1, 0, 0, 0,\n",
       "       0, 0, 0, 0, 0, 0, 0, 0, 1, 0, 0, 0, 0, 0, 1, 1, 0, 1, 1, 1, 1, 0,\n",
       "       0, 1, 1, 0, 0, 0, 0, 1, 0, 0, 0, 1, 1, 0, 0, 0, 1, 0, 1, 0, 1, 1,\n",
       "       0, 0, 1, 1, 0, 1, 0, 0, 0, 0, 0, 0, 0, 1, 0, 0, 0, 0, 1, 1, 0, 0,\n",
       "       0, 0, 1, 0, 0, 1, 1, 1, 0, 0, 0, 0, 0, 1, 0, 0, 1, 0, 1, 0, 0, 1,\n",
       "       1, 0, 1, 0, 0, 0, 0, 1, 0, 0, 1, 0, 0, 0, 0, 1, 0, 0, 0, 0, 0, 1,\n",
       "       0, 1, 0, 0, 0, 0, 0, 1, 0, 1, 0, 1, 0, 1, 0, 0, 1, 1, 0, 1, 1, 0,\n",
       "       0, 0, 1, 1, 0, 0, 0, 0, 1, 0, 1, 0, 0, 0, 1, 0, 0, 0, 0, 1, 0, 0,\n",
       "       0, 0, 0, 0, 0, 0, 0, 0, 0, 0, 0, 0, 0, 0, 0, 1, 0, 0, 0, 1, 0, 0,\n",
       "       0, 0, 0, 1, 0, 1, 1, 1, 0, 1, 0, 0, 0, 0, 1, 0, 0, 1, 1, 1, 1, 0,\n",
       "       0, 1, 1, 0, 1, 0, 0, 1, 0, 0, 0, 0, 0, 1, 1, 0, 0, 0, 0, 0, 0, 1,\n",
       "       1, 1, 1, 1, 1, 1, 0, 0, 0, 1, 0, 0, 1, 0, 0, 1, 1, 1, 0, 1, 0, 0,\n",
       "       0, 0, 1, 0, 0, 0, 0, 0, 0, 1, 0, 0, 0, 1, 0, 1, 0, 0, 0, 1, 1, 0,\n",
       "       0, 0, 1, 0, 1, 0, 0, 0, 0, 0, 0, 0, 0, 0, 1, 1, 1, 0, 1, 0, 1, 1,\n",
       "       1, 0, 1, 0, 0, 1, 0, 0, 0, 1, 0, 0, 0, 0, 0, 0, 1, 1, 0, 0, 1, 0,\n",
       "       0, 1, 0, 0, 0, 0, 0, 0, 0, 0, 0, 1, 1, 1, 1, 0, 0, 0, 1, 0, 1, 1,\n",
       "       0, 0, 1, 0, 0, 1, 0, 0, 0, 0, 0, 0, 0, 1, 1, 1, 1, 1, 0, 0, 0, 0,\n",
       "       0, 1, 1, 0, 1, 0, 0, 1, 0, 0, 1, 1, 0, 0, 0, 0, 0, 0, 1, 0, 1, 0,\n",
       "       1, 0, 1, 1, 1, 0, 1, 0, 0, 0, 0, 0, 1, 0, 0, 0, 0, 0, 1, 0, 0, 0,\n",
       "       0, 0, 0, 1, 0, 0, 0, 0, 1, 0, 0, 0, 1, 0, 0, 0, 1, 0, 0, 0, 0, 0,\n",
       "       0, 0, 1, 1, 0, 1, 1, 0, 0, 1, 1, 0, 1, 0, 0, 0, 0, 0, 0, 1, 0, 0,\n",
       "       0, 0, 1, 0, 0, 0, 0, 1, 0, 0, 0, 1, 0, 0, 0, 0, 0, 0, 0, 1, 1, 0,\n",
       "       0, 0, 1, 0, 1, 1, 0, 0, 1, 1, 0, 1, 1, 0, 0, 0, 0, 1, 0, 1, 0, 1,\n",
       "       0, 0, 1, 0, 0, 1, 0, 0, 0, 1, 1, 0, 1, 1, 0, 1, 0, 1, 1, 0, 0, 0,\n",
       "       1, 1, 0, 0, 0, 0, 0, 1, 0, 1, 0, 0, 0, 1, 0, 1, 0, 0, 0, 0, 1, 0,\n",
       "       0, 0, 1, 0, 0, 1, 0, 1, 1, 0, 0, 1, 0, 1, 1, 0, 0, 1, 0, 1, 0, 1,\n",
       "       0, 1, 1, 0, 0, 0, 0, 1, 0, 1, 1, 0, 0, 0, 0, 1, 0, 0, 0, 1, 0, 0,\n",
       "       0, 1, 1, 0, 0, 1, 1, 1, 0, 0, 1, 1, 0, 0, 1, 0, 1, 0, 0, 0, 1, 0,\n",
       "       0, 0, 0, 0, 0, 1, 0, 0, 0, 1, 0, 1, 0, 1, 0, 0, 0, 1, 0, 0, 0, 1,\n",
       "       0, 0, 1, 0, 0, 1, 0, 1, 1, 0, 0, 0, 1, 1, 0, 0, 0, 0, 1, 1, 1, 0,\n",
       "       0, 0, 1, 1, 0, 0, 1, 1, 0, 1, 0, 0, 0, 1, 1, 0, 0, 1, 0, 1, 0, 1,\n",
       "       1, 0, 0, 1, 1, 1, 1, 0, 0, 0, 0, 0, 1, 1, 0, 1, 0, 1, 0, 0, 1, 0,\n",
       "       0, 0, 0, 0, 1, 0, 0, 0, 0, 0, 0, 0, 0, 0, 0, 0, 0, 0, 0, 0, 0, 0,\n",
       "       1, 0, 0, 0, 0, 0, 0, 0, 0, 0, 0, 0, 0, 0, 0, 0, 0, 0, 0, 0, 0, 1,\n",
       "       0, 0, 0, 0, 0, 0, 1, 0, 1, 0, 1, 1, 0, 0, 0, 0, 1, 0, 0, 0, 0, 1,\n",
       "       0, 0, 1], dtype=int64)"
      ]
     },
     "execution_count": 191,
     "metadata": {},
     "output_type": "execute_result"
    }
   ],
   "source": [
    "knn_train_pred = knn_model.predict(X_train)\n",
    "knn_train_pred"
   ]
  },
  {
   "cell_type": "code",
   "execution_count": 192,
   "id": "dca63ba1",
   "metadata": {},
   "outputs": [
    {
     "data": {
      "text/plain": [
       "array([1, 0, 0, 0, 0, 0, 0, 0, 0, 0, 0, 0, 0, 0, 0, 1, 0, 0, 0, 0, 0, 0,\n",
       "       0, 1, 0, 0, 0, 0, 1, 0, 0, 0, 0, 0, 0, 0, 0, 0, 0, 0, 0, 1, 0, 0,\n",
       "       0, 1, 0, 1, 1, 1, 1, 0, 0, 0, 0, 0, 0, 0, 1, 0, 0, 1, 0, 0, 1, 1,\n",
       "       1, 0, 0, 0, 0, 0, 0, 0, 0, 0, 1, 0, 1, 1, 0, 1, 0, 0, 0, 0, 0, 1,\n",
       "       1, 0, 1, 0, 0, 1, 0, 0, 1, 0, 1, 0, 0, 0, 0, 1, 0, 0, 0, 1, 1, 0,\n",
       "       1, 0, 0, 0, 1, 0, 0, 0, 0, 0, 0, 0, 0, 1, 1, 1, 0, 0, 0, 0, 0, 0,\n",
       "       1, 0, 1, 0, 0, 0, 0, 0, 0, 1, 1, 0, 0, 0, 0, 1, 0, 0, 0, 0, 0, 0,\n",
       "       1, 0, 1, 1, 0, 1, 0, 0, 0, 0, 1, 0, 0, 0, 0, 0, 0, 0, 0, 1, 0, 0,\n",
       "       1, 1, 1, 1, 1, 1, 0, 0, 0, 1, 0, 0, 1, 1, 1, 1, 0, 1, 1, 1, 1, 0,\n",
       "       0, 0, 0, 1, 0, 0, 0, 0, 0, 0, 1, 0, 1, 1, 0, 0, 0, 0, 0, 0, 1, 1,\n",
       "       0, 0, 1, 1, 1, 0, 0], dtype=int64)"
      ]
     },
     "execution_count": 192,
     "metadata": {},
     "output_type": "execute_result"
    }
   ],
   "source": [
    "knn_test_pred = knn_model.predict(X_test)\n",
    "knn_test_pred"
   ]
  },
  {
   "cell_type": "code",
   "execution_count": 193,
   "id": "5238b416",
   "metadata": {},
   "outputs": [
    {
     "data": {
      "text/plain": [
       "(0.8928176795580111, 0.8237885462555066)"
      ]
     },
     "execution_count": 193,
     "metadata": {},
     "output_type": "execute_result"
    }
   ],
   "source": [
    "# check accuracy for train and test \n",
    "knn_train_accuracy=accuracy_score(y_train, knn_train_pred)\n",
    "knn_test_accuracy=accuracy_score(y_test, knn_test_pred)\n",
    "knn_train_accuracy,knn_test_accuracy\n"
   ]
  },
  {
   "cell_type": "code",
   "execution_count": 194,
   "id": "c49934ba",
   "metadata": {},
   "outputs": [
    {
     "data": {
      "text/plain": [
       "(0.8590604026845637, 0.75)"
      ]
     },
     "execution_count": 194,
     "metadata": {},
     "output_type": "execute_result"
    }
   ],
   "source": [
    "# check precision score for train and test \n",
    "knn_train_precision=precision_score(y_train, knn_train_pred)\n",
    "knn_test_precision=precision_score(y_test, knn_test_pred)\n",
    "knn_train_precision,knn_test_precision\n"
   ]
  },
  {
   "cell_type": "code",
   "execution_count": 195,
   "id": "48233be8",
   "metadata": {},
   "outputs": [
    {
     "data": {
      "text/plain": [
       "(0.8407224958949098, 0.7183098591549296)"
      ]
     },
     "execution_count": 195,
     "metadata": {},
     "output_type": "execute_result"
    }
   ],
   "source": [
    "# check f1 score for train and test \n",
    "knn_train_f1=f1_score(y_train, knn_train_pred)\n",
    "knn_test_f1=f1_score(y_test, knn_test_pred)\n",
    "knn_train_f1,knn_test_f1\n"
   ]
  },
  {
   "cell_type": "code",
   "execution_count": 196,
   "id": "bfb3de45",
   "metadata": {},
   "outputs": [
    {
     "data": {
      "text/plain": [
       "(0.8231511254019293, 0.6891891891891891)"
      ]
     },
     "execution_count": 196,
     "metadata": {},
     "output_type": "execute_result"
    }
   ],
   "source": [
    "# check recall score for train and test \n",
    "knn_train_recall=recall_score(y_train, knn_train_pred)\n",
    "knn_test_recall=recall_score(y_test, knn_test_pred)\n",
    "knn_train_recall,knn_test_recall\n"
   ]
  },
  {
   "cell_type": "code",
   "execution_count": 197,
   "id": "cce700d0",
   "metadata": {},
   "outputs": [
    {
     "data": {
      "text/plain": [
       "(0.9566349453809262, 0.8201289524818937)"
      ]
     },
     "execution_count": 197,
     "metadata": {},
     "output_type": "execute_result"
    }
   ],
   "source": [
    "# Calculate area under roc curve for train and test\n",
    "knn_train_auc = roc_auc_score(y_train, knn_model.predict_proba(X_train)[:,1])\n",
    "knn_test_auc = roc_auc_score(y_test, knn_model.predict_proba(X_test)[:,1])\n",
    "knn_train_auc,knn_test_auc"
   ]
  },
  {
   "cell_type": "markdown",
   "id": "a3ce7d14",
   "metadata": {},
   "source": [
    "# Plot Auc-roc curve for each of the classification models "
   ]
  },
  {
   "cell_type": "code",
   "execution_count": 198,
   "id": "4cf0cf16",
   "metadata": {
    "scrolled": false
   },
   "outputs": [
    {
     "data": {
      "image/png": "[encoded data removed]",
      "text/plain": [
       "<Figure size 800x600 with 1 Axes>"
      ]
     },
     "metadata": {},
     "output_type": "display_data"
    }
   ],
   "source": [
    "#ROC CURVE COMPARISON FOR TRAIN DATA \n",
    "plt.figure(figsize=(8,6))\n",
    "\n",
    "# Logistic Regression\n",
    "lr_train_fpr, lr_train_tpr, lr_train_thresholds = roc_curve(y_train, lr_model.predict_proba(X_train)[:,1])\n",
    "lr_train_auc = roc_auc_score(y_train, lr_model.predict_proba(X_train)[:,1])\n",
    "plt.plot(lr_train_fpr, lr_train_tpr, label=f'Logistic Regression (AUC = {lr_train_auc:.2f})')\n",
    "\n",
    "# KNN\n",
    "knn_train_fpr, knn_train_tpr, knn_train_thresholds = roc_curve(y_train, knn_model.predict_proba(X_train)[:,1])\n",
    "knn_train_auc = roc_auc_score(y_train, knn_model.predict_proba(X_train)[:,1])\n",
    "plt.plot(knn_train_fpr, knn_train_tpr, label=f'KNN (AUC = {knn_train_auc:.2f})')\n",
    "\n",
    "# Decision Tree\n",
    "dt_train_fpr, dt_train_tpr, dt_train_thresholds = roc_curve(y_train, dt_model.predict_proba(X_train)[:,1])\n",
    "dt_train_auc = roc_auc_score(y_train, dt_model.predict_proba(X_train)[:,1])\n",
    "plt.plot(dt_train_fpr, dt_train_tpr, label=f'Decision Tree (AUC = {dt_train_auc:.2f})')\n",
    "\n",
    "plt.plot([0, 1], [0, 1], linestyle='--', color='gray', label='Random Guess')\n",
    "plt.xlabel('False Positive Rate')\n",
    "plt.ylabel('True Positive Rate')\n",
    "plt.title('ROC Curve Comparison (Training Data)')\n",
    "plt.legend()\n",
    "plt.show()\n"
   ]
  },
  {
   "cell_type": "code",
   "execution_count": 199,
   "id": "5ff26f30",
   "metadata": {},
   "outputs": [
    {
     "data": {
      "image/png": "[encoded data removed]",
      "text/plain": [
       "<Figure size 800x600 with 1 Axes>"
      ]
     },
     "metadata": {},
     "output_type": "display_data"
    }
   ],
   "source": [
    "#ROC CURVE COMPARISON FOR TEST DATA\n",
    "plt.figure(figsize=(8,6))\n",
    "\n",
    "# Logistic Regression\n",
    "lr_test_fpr, lr_test_tpr, lr_test_thresholds = roc_curve(y_test, lr_model.predict_proba(X_test)[:,1])\n",
    "lr_test_auc = roc_auc_score(y_test, lr_model.predict_proba(X_test)[:,1])\n",
    "plt.plot(lr_test_fpr, lr_test_tpr, label=f'Logistic Regression (AUC = {lr_test_auc:.2f})')\n",
    "\n",
    "# KNN\n",
    "knn_test_fpr, knn_test_tpr, knn_test_thresholds = roc_curve(y_test, knn_model.predict_proba(X_test)[:,1])\n",
    "knn_test_auc = roc_auc_score(y_test, knn_model.predict_proba(X_test)[:,1])\n",
    "plt.plot(knn_test_fpr, knn_test_tpr, label=f'KNN (AUC = {knn_test_auc:.2f})')\n",
    "\n",
    "# Decision Tree\n",
    "dt_test_fpr, dt_test_tpr, dt_test_thresholds = roc_curve(y_test, dt_model.predict_proba(X_test)[:,1])\n",
    "dt_test_auc = roc_auc_score(y_test, dt_model.predict_proba(X_test)[:,1])\n",
    "plt.plot(dt_test_fpr, dt_test_tpr, label=f'Decision Tree (AUC = {dt_test_auc:.2f})')\n",
    "\n",
    "plt.plot([0, 1], [0, 1], linestyle='--', color='gray', label='Random Guess')\n",
    "plt.xlabel('False Positive Rate')\n",
    "plt.ylabel('True Positive Rate')\n",
    "plt.title('ROC Curve Comparison (Test Data)')\n",
    "plt.legend()\n",
    "plt.show()\n"
   ]
  },
  {
   "cell_type": "code",
   "execution_count": 200,
   "id": "0abd5d42",
   "metadata": {},
   "outputs": [],
   "source": [
    "# saving  performance metrics for each model in a dataframe \n",
    "summary_df = pd.DataFrame({\n",
    "    'Model': ['Logistic Regression', 'K-Nearest Neighbors', 'Decision Tree'],\n",
    "    'Train Accuracy': [lr_train_accuracy,knn_train_accuracy,dt_train_accuracy],\n",
    "    'Test Accuracy': [lr_test_accuracy,knn_test_accuracy,dt_test_accuracy],\n",
    "    'Train Precision': [lr_train_precision,knn_train_precision,dt_train_precision],\n",
    "    'Test Precision': [lr_test_precision,knn_test_precision,dt_test_precision],\n",
    "    'Train Recall': [lr_train_recall,knn_train_recall,dt_train_recall],\n",
    "    'Test Recall': [lr_test_recall,knn_test_recall,dt_test_recall],\n",
    "    'Train F1 Score': [lr_train_f1,knn_train_f1,dt_train_f1],\n",
    "    'Test F1 Score': [lr_test_f1,knn_test_f1,dt_test_f1],\n",
    "    'Train AUC ROC': [lr_train_auc,knn_train_auc,dt_train_auc],\n",
    "    'Test AUC ROC': [lr_test_auc,knn_test_auc,dt_test_auc]\n",
    "                        })\n",
    "\n",
    "\n"
   ]
  },
  {
   "cell_type": "code",
   "execution_count": 202,
   "id": "6b437b49",
   "metadata": {},
   "outputs": [
    {
     "data": {
      "text/html": [
       "<div>\n",
       "<style scoped>\n",
       "    .dataframe tbody tr th:only-of-type {\n",
       "        vertical-align: middle;\n",
       "    }\n",
       "\n",
       "    .dataframe tbody tr th {\n",
       "        vertical-align: top;\n",
       "    }\n",
       "\n",
       "    .dataframe thead th {\n",
       "        text-align: right;\n",
       "    }\n",
       "</style>\n",
       "<table border=\"1\" class=\"dataframe\">\n",
       "  <thead>\n",
       "    <tr style=\"text-align: right;\">\n",
       "      <th></th>\n",
       "      <th>Model</th>\n",
       "      <th>Train Accuracy</th>\n",
       "      <th>Test Accuracy</th>\n",
       "      <th>Train Precision</th>\n",
       "      <th>Test Precision</th>\n",
       "      <th>Train Recall</th>\n",
       "      <th>Test Recall</th>\n",
       "      <th>Train F1 Score</th>\n",
       "      <th>Test F1 Score</th>\n",
       "      <th>Train AUC ROC</th>\n",
       "      <th>Test AUC ROC</th>\n",
       "    </tr>\n",
       "  </thead>\n",
       "  <tbody>\n",
       "    <tr>\n",
       "      <th>0</th>\n",
       "      <td>Logistic Regression</td>\n",
       "      <td>0.853039</td>\n",
       "      <td>0.837004</td>\n",
       "      <td>0.804795</td>\n",
       "      <td>0.776119</td>\n",
       "      <td>0.755627</td>\n",
       "      <td>0.702703</td>\n",
       "      <td>0.779436</td>\n",
       "      <td>0.737589</td>\n",
       "      <td>0.888191</td>\n",
       "      <td>0.870297</td>\n",
       "    </tr>\n",
       "    <tr>\n",
       "      <th>1</th>\n",
       "      <td>K-Nearest Neighbors</td>\n",
       "      <td>0.892818</td>\n",
       "      <td>0.823789</td>\n",
       "      <td>0.859060</td>\n",
       "      <td>0.750000</td>\n",
       "      <td>0.823151</td>\n",
       "      <td>0.689189</td>\n",
       "      <td>0.840722</td>\n",
       "      <td>0.718310</td>\n",
       "      <td>0.956635</td>\n",
       "      <td>0.820129</td>\n",
       "    </tr>\n",
       "    <tr>\n",
       "      <th>2</th>\n",
       "      <td>Decision Tree</td>\n",
       "      <td>0.878453</td>\n",
       "      <td>0.845815</td>\n",
       "      <td>0.843003</td>\n",
       "      <td>0.767123</td>\n",
       "      <td>0.794212</td>\n",
       "      <td>0.756757</td>\n",
       "      <td>0.817881</td>\n",
       "      <td>0.761905</td>\n",
       "      <td>0.922670</td>\n",
       "      <td>0.880321</td>\n",
       "    </tr>\n",
       "  </tbody>\n",
       "</table>\n",
       "</div>"
      ],
      "text/plain": [
       "                 Model  Train Accuracy  Test Accuracy  Train Precision  \\\n",
       "0  Logistic Regression        0.853039       0.837004         0.804795   \n",
       "1  K-Nearest Neighbors        0.892818       0.823789         0.859060   \n",
       "2        Decision Tree        0.878453       0.845815         0.843003   \n",
       "\n",
       "   Test Precision  Train Recall  Test Recall  Train F1 Score  Test F1 Score  \\\n",
       "0        0.776119      0.755627     0.702703        0.779436       0.737589   \n",
       "1        0.750000      0.823151     0.689189        0.840722       0.718310   \n",
       "2        0.767123      0.794212     0.756757        0.817881       0.761905   \n",
       "\n",
       "   Train AUC ROC  Test AUC ROC  \n",
       "0       0.888191      0.870297  \n",
       "1       0.956635      0.820129  \n",
       "2       0.922670      0.880321  "
      ]
     },
     "execution_count": 202,
     "metadata": {},
     "output_type": "execute_result"
    }
   ],
   "source": [
    "# Displaying Performance metrics of all the 3 models \n",
    "summary_df"
   ]
  },
  {
   "cell_type": "markdown",
   "id": "789b1cfd",
   "metadata": {},
   "source": [
    "The table provides the performance metrics for three different algorithms (Logistic Regression, K-Nearest Neighbors, and Decision Tree) on the Titanic dataset. Let's analyze the metrics and compare the train and test performance for each parameter:\n",
    "\n",
    "1. Accuracy: Represents the overall correctness of the model's predictions.\n",
    "\n",
    "2. Precision: Measures the proportion of true positive predictions out of all positive predictions.\n",
    "\n",
    "3. Recall: Calculates the proportion of true positive predictions out of all actual positive instances.\n",
    "\n",
    "4. F1 Score: Combines precision and recall into a single metric, which considers both false positives and false negatives.\n",
    "\n",
    "5. AUC ROC: Represents the Area Under the Receiver Operating Characteristic curve, which indicates the model's ability to distinguish between positive and negative instances.\n",
    "\n",
    "Now, let's analyze the train and test performance for each algorithm:\n",
    "\n",
    "1. Logistic Regression:\n",
    "   - The model shows reasonably good performance on both the train and test sets, with similar accuracy, precision, recall, F1 score, and AUC ROC values.\n",
    "   - It seems to generalize well to unseen data, as the test performance is close to the train performance.\n",
    "\n",
    "2. K-Nearest Neighbors:\n",
    "   - The model has slightly higher accuracy, precision, recall, F1 score, and AUC ROC on the train set compared to the test set.\n",
    "   - It exhibits some overfitting, as the performance drops on the test set compared to the train set.\n",
    "   - The model's performance on precision is lower on the test set, indicating a higher rate of false positive predictions.\n",
    "\n",
    "3. Decision Tree:\n",
    "   - The model performs consistently well on both the train and test sets, with similar accuracy, precision, recall, F1 score, and AUC ROC values.\n",
    "   - It shows good generalization capability, as the test performance is comparable to the train performance.\n",
    "   - The decision tree algorithm might have captured the underlying patterns in the Titanic dataset effectively.\n",
    "\n",
    "Overall, the Decision Tree algorithm seems to be performing the best on the Titanic dataset. It exhibits good accuracy, precision, recall, F1 score, and AUC ROC on both the train and test sets. It demonstrates a balanced trade-off between overfitting and generalization capability.\n",
    "\n",
    "The K-Nearest Neighbors algorithm shows some overfitting, leading to lower performance on the test set. It might benefit from further tuning or feature selection to improve its performance.\n",
    "\n",
    "The Logistic Regression algorithm performs well, showing good generalization to unseen data. However, it slightly underperforms compared to the Decision Tree algorithm. Possible reasons could include the complexity of the underlying relationships in the data, which the decision tree model captures more effectively.\n",
    "\n",
    "In summary, based on the provided metrics, the Decision Tree algorithm appears to be the best performer, while the K-Nearest Neighbors algorithm shows some signs of overfitting. The Logistic Regression algorithm performs reasonably well but falls slightly behind the Decision Tree algorithm in terms of overall performance."
   ]
  }
 ],
 "metadata": {
  "kernelspec": {
   "display_name": "Python 3 (ipykernel)",
   "language": "python",
   "name": "python3"
  },
  "language_info": {
   "codemirror_mode": {
    "name": "ipython",
    "version": 3
   },
   "file_extension": ".py",
   "mimetype": "text/x-python",
   "name": "python",
   "nbconvert_exporter": "python",
   "pygments_lexer": "ipython3",
   "version": "3.9.13"
  }
 },
 "nbformat": 4,
 "nbformat_minor": 5
}
